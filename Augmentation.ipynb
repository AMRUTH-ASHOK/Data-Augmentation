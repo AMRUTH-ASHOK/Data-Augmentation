{
 "cells": [
  {
   "cell_type": "code",
   "execution_count": 26,
   "metadata": {},
   "outputs": [],
   "source": [
    "import tensorflow as tf\n",
    "import cv2\n",
    "from matplotlib import pyplot as plt\n",
    "import numpy as np\n",
    "import os\n",
    "from PIL import Image\n",
    "import tqdm\n",
    "import random"
   ]
  },
  {
   "cell_type": "code",
   "execution_count": null,
   "metadata": {},
   "outputs": [],
   "source": [
    "\"\"\"\n",
    "\n",
    "\n",
    "=======================================  DATA AUGMENTATION  =======================================\n",
    "\n",
    "1.completeFlow() - Augments images in a folder and stores them in another folder\n",
    "    - arguments : src_path_original - path of the folder which contains images belonging to their respective classes\n",
    "                  src_dest_original - path of the folder where images will be stored after augmentation. (classes has to be created prior to running this function)\n",
    "                  multiplication_factor - Augmentation rate. (Number of images to be generated per image)\n",
    "    - return : None\n",
    "\n",
    "2. aug_flow() - helper function for completeFlow()\n",
    "    - arguments : img - image to be augmented\n",
    "                  multiplication_factor - Augmentation rate. (Number of images to be generated per image)\n",
    "    - return : List of augmented images\n",
    "\n",
    "====================================================================================================            \n",
    "\n",
    "\n",
    "\"\"\""
   ]
  },
  {
   "cell_type": "code",
   "execution_count": 27,
   "metadata": {},
   "outputs": [],
   "source": [
    "def aug_flow(img,multiplication_factor):\n",
    "    data = []\n",
    "    for i in range(multiplication_factor):\n",
    "        img = tf.image.random_brightness(img, max_delta=0.02)\n",
    "        img = tf.image.random_contrast(img, lower=0.6, upper=1)\n",
    "        img = tf.image.random_flip_left_right(img)\n",
    "        img = tf.image.random_jpeg_quality(img, min_jpeg_quality=90, max_jpeg_quality=100)\n",
    "        img = tf.image.random_saturation(img, lower=0.9,upper=1)\n",
    "\n",
    "        data.append(img)\n",
    "    return data\n",
    "\n",
    "def completeFlow(src_path_original,dest_path_original,multiplication_factor):\n",
    "    Total_Classes = os.listdir(src_path_original)\n",
    "    # wrap it in tqdm to get a progress bar\n",
    "    print(\"Total Number of Classes = \",len(Total_Classes))\n",
    "    print(\"=============================================\")\n",
    "    print(\"     DATA AUGMENTATION IN PROGRESS...\")\n",
    "    print(\"=============================================\")\n",
    "    print(\" \")\n",
    "    \n",
    "    for className in tqdm.tqdm(Total_Classes):\n",
    "        src_path = src_path_original\n",
    "        dest_path = dest_path_original\n",
    "        print(\"Augmenting Class: \",className)\n",
    "        path=src_path+\"/\"+className\n",
    "\n",
    "\n",
    "        temp = os.listdir(path)\n",
    "        OriginalImagesPath=[]\n",
    "        AugmentedImagesPath=[]\n",
    "        dest=dest_path+\"/\"+className\n",
    "        for i in temp:\n",
    "            if 'png' in i or 'jpg' in i:\n",
    "                OriginalImagesPath.append(path+'/'+i)\n",
    "                AugmentedImagesPath.append(i.split('/')[-1])\n",
    "\n",
    "        imgList=[]\n",
    "        for i in AugmentedImagesPath:\n",
    "            imgPath = path+'/'+i\n",
    "            img = cv2.imread(imgPath)\n",
    "            # gray = cv2.cvtColor(img, cv2.COLOR_BGR2GRAY)\n",
    "            imgList.append(img)\n",
    "\n",
    "        aug_imagesList=[]\n",
    "        for img in imgList:\n",
    "            aug_images = aug_flow(img,5)\n",
    "            aug_imagesList.append(aug_images)\n",
    "\n",
    "        dest_path = dest_path+\"/\"+className+'/'\n",
    "        for j in range(len(aug_imagesList)):\n",
    "            for i in range(len(aug_imagesList[0])):\n",
    "                bgr = cv2.cvtColor(aug_imagesList[j][i].numpy(),cv2.COLOR_RGB2BGR)\n",
    "                # bgr = cv2.cvtColor(bgr, cv2.COLOR_RGB2BGR)\n",
    "                # image = Image.fromarray(aug_imagesList[j][i].numpy())\n",
    "                image = Image.fromarray(bgr)\n",
    "                random_number = random.randint(10000, 99999)\n",
    "                dest_Image_path = dest_path+str(random_number)+\"-\"+str(i)+\".png\"\n",
    "                image.save(dest_Image_path, format='PNG')\n",
    "    print(\"             Process Completed!  \")\n",
    "    print(\"=============================================\")\n",
    "        "
   ]
  },
  {
   "cell_type": "code",
   "execution_count": 28,
   "metadata": {},
   "outputs": [
    {
     "name": "stdout",
     "output_type": "stream",
     "text": [
      "Total Number of Classes =  4\n",
      "=============================================\n",
      "     DATA AUGMENTATION IN PROGRESS...\n",
      "=============================================\n",
      " \n"
     ]
    },
    {
     "name": "stderr",
     "output_type": "stream",
     "text": [
      "  0%|          | 0/4 [00:00<?, ?it/s]"
     ]
    },
    {
     "name": "stdout",
     "output_type": "stream",
     "text": [
      "Augmenting Class:  3_Ardhapataka\n"
     ]
    },
    {
     "name": "stderr",
     "output_type": "stream",
     "text": [
      " 25%|██▌       | 1/4 [02:50<08:31, 170.37s/it]"
     ]
    },
    {
     "name": "stdout",
     "output_type": "stream",
     "text": [
      "Augmenting Class:  4_Kartharimukhaha\n"
     ]
    },
    {
     "name": "stderr",
     "output_type": "stream",
     "text": [
      " 50%|█████     | 2/4 [05:37<05:37, 168.73s/it]"
     ]
    },
    {
     "name": "stdout",
     "output_type": "stream",
     "text": [
      "Augmenting Class:  1_Pataka\n"
     ]
    },
    {
     "name": "stderr",
     "output_type": "stream",
     "text": [
      " 75%|███████▌  | 3/4 [08:34<02:52, 172.34s/it]"
     ]
    },
    {
     "name": "stdout",
     "output_type": "stream",
     "text": [
      "Augmenting Class:  2_Tripataka\n"
     ]
    },
    {
     "name": "stderr",
     "output_type": "stream",
     "text": [
      "100%|██████████| 4/4 [11:19<00:00, 169.96s/it]"
     ]
    },
    {
     "name": "stdout",
     "output_type": "stream",
     "text": [
      "             Process Completed!  \n",
      "=============================================\n"
     ]
    },
    {
     "name": "stderr",
     "output_type": "stream",
     "text": [
      "\n"
     ]
    }
   ],
   "source": [
    "src = \"/Users/amruthashok/Desktop/Images/Mudras\"\n",
    "dest = \"/Users/amruthashok/Desktop/Images/Augmented Mudras\"\n",
    "mult = 5\n",
    "completeFlow(src,dest,mult)"
   ]
  },
  {
   "cell_type": "code",
   "execution_count": null,
   "metadata": {},
   "outputs": [],
   "source": []
  }
 ],
 "metadata": {
  "kernelspec": {
   "display_name": "mlp1",
   "language": "python",
   "name": "python3"
  },
  "language_info": {
   "codemirror_mode": {
    "name": "ipython",
    "version": 3
   },
   "file_extension": ".py",
   "mimetype": "text/x-python",
   "name": "python",
   "nbconvert_exporter": "python",
   "pygments_lexer": "ipython3",
   "version": "3.8.13"
  },
  "orig_nbformat": 4,
  "vscode": {
   "interpreter": {
    "hash": "9c9483491e338353b4b613e02627ff3c0f9d5b9680dcdb3d9d18f221841f6e6e"
   }
  }
 },
 "nbformat": 4,
 "nbformat_minor": 2
}
